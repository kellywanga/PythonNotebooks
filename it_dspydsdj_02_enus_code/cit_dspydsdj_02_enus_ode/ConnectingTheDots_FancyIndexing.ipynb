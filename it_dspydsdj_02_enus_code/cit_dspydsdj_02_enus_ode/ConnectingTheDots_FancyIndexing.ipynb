{
 "cells": [
  {
   "cell_type": "code",
   "execution_count": 1,
   "metadata": {},
   "outputs": [],
   "source": [
    "import numpy as np\n",
    "import pandas as pd\n",
    "import matplotlib.pyplot as plt"
   ]
  },
  {
   "cell_type": "markdown",
   "metadata": {},
   "source": [
    "#### Load Countries dataset\n",
    "Source: https://www.kaggle.com/fernandol/countries-of-the-world"
   ]
  },
  {
   "cell_type": "code",
   "execution_count": 2,
   "metadata": {},
   "outputs": [
    {
     "data": {
      "text/html": [
       "<div>\n",
       "<style scoped>\n",
       "    .dataframe tbody tr th:only-of-type {\n",
       "        vertical-align: middle;\n",
       "    }\n",
       "\n",
       "    .dataframe tbody tr th {\n",
       "        vertical-align: top;\n",
       "    }\n",
       "\n",
       "    .dataframe thead th {\n",
       "        text-align: right;\n",
       "    }\n",
       "</style>\n",
       "<table border=\"1\" class=\"dataframe\">\n",
       "  <thead>\n",
       "    <tr style=\"text-align: right;\">\n",
       "      <th></th>\n",
       "      <th>Country</th>\n",
       "      <th>Region</th>\n",
       "      <th>Population</th>\n",
       "      <th>Area (sq. mi.)</th>\n",
       "      <th>Pop. Density (per sq. mi.)</th>\n",
       "      <th>Coastline (coast/area ratio)</th>\n",
       "      <th>Net migration</th>\n",
       "      <th>Infant mortality (per 1000 births)</th>\n",
       "      <th>GDP ($ per capita)</th>\n",
       "      <th>Literacy (%)</th>\n",
       "      <th>Phones (per 1000)</th>\n",
       "      <th>Arable (%)</th>\n",
       "      <th>Crops (%)</th>\n",
       "      <th>Other (%)</th>\n",
       "      <th>Climate</th>\n",
       "      <th>Birthrate</th>\n",
       "      <th>Deathrate</th>\n",
       "      <th>Agriculture</th>\n",
       "      <th>Industry</th>\n",
       "      <th>Service</th>\n",
       "    </tr>\n",
       "  </thead>\n",
       "  <tbody>\n",
       "    <tr>\n",
       "      <th>0</th>\n",
       "      <td>Afghanistan</td>\n",
       "      <td>ASIA (EX. NEAR EAST)</td>\n",
       "      <td>31056997</td>\n",
       "      <td>647500</td>\n",
       "      <td>48.0</td>\n",
       "      <td>0.00</td>\n",
       "      <td>23.06</td>\n",
       "      <td>163.07</td>\n",
       "      <td>700.0</td>\n",
       "      <td>36.0</td>\n",
       "      <td>3.2</td>\n",
       "      <td>12.13</td>\n",
       "      <td>0.22</td>\n",
       "      <td>87.65</td>\n",
       "      <td>1.0</td>\n",
       "      <td>46.60</td>\n",
       "      <td>20.34</td>\n",
       "      <td>0.380</td>\n",
       "      <td>0.240</td>\n",
       "      <td>0.380</td>\n",
       "    </tr>\n",
       "    <tr>\n",
       "      <th>1</th>\n",
       "      <td>Albania</td>\n",
       "      <td>EASTERN EUROPE</td>\n",
       "      <td>3581655</td>\n",
       "      <td>28748</td>\n",
       "      <td>124.6</td>\n",
       "      <td>1.26</td>\n",
       "      <td>-4.93</td>\n",
       "      <td>21.52</td>\n",
       "      <td>4500.0</td>\n",
       "      <td>86.5</td>\n",
       "      <td>71.2</td>\n",
       "      <td>21.09</td>\n",
       "      <td>4.42</td>\n",
       "      <td>74.49</td>\n",
       "      <td>3.0</td>\n",
       "      <td>15.11</td>\n",
       "      <td>5.22</td>\n",
       "      <td>0.232</td>\n",
       "      <td>0.188</td>\n",
       "      <td>0.579</td>\n",
       "    </tr>\n",
       "    <tr>\n",
       "      <th>2</th>\n",
       "      <td>Algeria</td>\n",
       "      <td>NORTHERN AFRICA</td>\n",
       "      <td>32930091</td>\n",
       "      <td>2381740</td>\n",
       "      <td>13.8</td>\n",
       "      <td>0.04</td>\n",
       "      <td>-0.39</td>\n",
       "      <td>31.00</td>\n",
       "      <td>6000.0</td>\n",
       "      <td>70.0</td>\n",
       "      <td>78.1</td>\n",
       "      <td>3.22</td>\n",
       "      <td>0.25</td>\n",
       "      <td>96.53</td>\n",
       "      <td>1.0</td>\n",
       "      <td>17.14</td>\n",
       "      <td>4.61</td>\n",
       "      <td>0.101</td>\n",
       "      <td>0.600</td>\n",
       "      <td>0.298</td>\n",
       "    </tr>\n",
       "    <tr>\n",
       "      <th>3</th>\n",
       "      <td>American Samoa</td>\n",
       "      <td>OCEANIA</td>\n",
       "      <td>57794</td>\n",
       "      <td>199</td>\n",
       "      <td>290.4</td>\n",
       "      <td>58.29</td>\n",
       "      <td>-20.71</td>\n",
       "      <td>9.27</td>\n",
       "      <td>8000.0</td>\n",
       "      <td>97.0</td>\n",
       "      <td>259.5</td>\n",
       "      <td>10.00</td>\n",
       "      <td>15.00</td>\n",
       "      <td>75.00</td>\n",
       "      <td>2.0</td>\n",
       "      <td>22.46</td>\n",
       "      <td>3.27</td>\n",
       "      <td>NaN</td>\n",
       "      <td>NaN</td>\n",
       "      <td>NaN</td>\n",
       "    </tr>\n",
       "    <tr>\n",
       "      <th>4</th>\n",
       "      <td>Andorra</td>\n",
       "      <td>WESTERN EUROPE</td>\n",
       "      <td>71201</td>\n",
       "      <td>468</td>\n",
       "      <td>152.1</td>\n",
       "      <td>0.00</td>\n",
       "      <td>6.60</td>\n",
       "      <td>4.05</td>\n",
       "      <td>19000.0</td>\n",
       "      <td>100.0</td>\n",
       "      <td>497.2</td>\n",
       "      <td>2.22</td>\n",
       "      <td>0.00</td>\n",
       "      <td>97.78</td>\n",
       "      <td>3.0</td>\n",
       "      <td>8.71</td>\n",
       "      <td>6.25</td>\n",
       "      <td>NaN</td>\n",
       "      <td>NaN</td>\n",
       "      <td>NaN</td>\n",
       "    </tr>\n",
       "  </tbody>\n",
       "</table>\n",
       "</div>"
      ],
      "text/plain": [
       "           Country                               Region  Population  \\\n",
       "0     Afghanistan         ASIA (EX. NEAR EAST)             31056997   \n",
       "1         Albania   EASTERN EUROPE                          3581655   \n",
       "2         Algeria   NORTHERN AFRICA                        32930091   \n",
       "3  American Samoa   OCEANIA                                   57794   \n",
       "4         Andorra   WESTERN EUROPE                            71201   \n",
       "\n",
       "   Area (sq. mi.)  Pop. Density (per sq. mi.)  Coastline (coast/area ratio)  \\\n",
       "0          647500                        48.0                          0.00   \n",
       "1           28748                       124.6                          1.26   \n",
       "2         2381740                        13.8                          0.04   \n",
       "3             199                       290.4                         58.29   \n",
       "4             468                       152.1                          0.00   \n",
       "\n",
       "   Net migration  Infant mortality (per 1000 births)  GDP ($ per capita)  \\\n",
       "0          23.06                              163.07               700.0   \n",
       "1          -4.93                               21.52              4500.0   \n",
       "2          -0.39                               31.00              6000.0   \n",
       "3         -20.71                                9.27              8000.0   \n",
       "4           6.60                                4.05             19000.0   \n",
       "\n",
       "   Literacy (%)  Phones (per 1000)  Arable (%)  Crops (%)  Other (%)  Climate  \\\n",
       "0          36.0                3.2       12.13       0.22      87.65      1.0   \n",
       "1          86.5               71.2       21.09       4.42      74.49      3.0   \n",
       "2          70.0               78.1        3.22       0.25      96.53      1.0   \n",
       "3          97.0              259.5       10.00      15.00      75.00      2.0   \n",
       "4         100.0              497.2        2.22       0.00      97.78      3.0   \n",
       "\n",
       "   Birthrate  Deathrate  Agriculture  Industry  Service  \n",
       "0      46.60      20.34        0.380     0.240    0.380  \n",
       "1      15.11       5.22        0.232     0.188    0.579  \n",
       "2      17.14       4.61        0.101     0.600    0.298  \n",
       "3      22.46       3.27          NaN       NaN      NaN  \n",
       "4       8.71       6.25          NaN       NaN      NaN  "
      ]
     },
     "execution_count": 2,
     "metadata": {},
     "output_type": "execute_result"
    }
   ],
   "source": [
    "countries = pd.read_csv('datasets/countries_of_the_world.csv', \n",
    "                        decimal = ',')\n",
    "countries.head()"
   ]
  },
  {
   "cell_type": "markdown",
   "metadata": {},
   "source": [
    "#### Load the low prices into a variable\n",
    "This returns an NDArray. Pandas is built on top of NumPy."
   ]
  },
  {
   "cell_type": "code",
   "execution_count": 3,
   "metadata": {},
   "outputs": [],
   "source": [
    "birthrates = countries['Birthrate'].values"
   ]
  },
  {
   "cell_type": "code",
   "execution_count": 4,
   "metadata": {},
   "outputs": [
    {
     "data": {
      "text/plain": [
       "numpy.ndarray"
      ]
     },
     "execution_count": 4,
     "metadata": {},
     "output_type": "execute_result"
    }
   ],
   "source": [
    "type(birthrates)"
   ]
  },
  {
   "cell_type": "code",
   "execution_count": 5,
   "metadata": {},
   "outputs": [
    {
     "data": {
      "text/plain": [
       "(227,)"
      ]
     },
     "execution_count": 5,
     "metadata": {},
     "output_type": "execute_result"
    }
   ],
   "source": [
    "birthrates.shape"
   ]
  },
  {
   "cell_type": "code",
   "execution_count": 6,
   "metadata": {},
   "outputs": [
    {
     "data": {
      "image/png": "[encoded data removed]",
      "text/plain": [
       "<matplotlib.figure.Figure at 0x116ff1ef0>"
      ]
     },
     "metadata": {},
     "output_type": "display_data"
    }
   ],
   "source": [
    "plt.plot(birthrates)\n",
    "plt.show()"
   ]
  },
  {
   "cell_type": "code",
   "execution_count": 7,
   "metadata": {},
   "outputs": [
    {
     "name": "stderr",
     "output_type": "stream",
     "text": [
      "/Users/kishan/anaconda3/lib/python3.6/site-packages/numpy/lib/function_base.py:3250: RuntimeWarning: Invalid value encountered in median\n",
      "  r = func(a, **kwargs)\n"
     ]
    },
    {
     "data": {
      "text/plain": [
       "nan"
      ]
     },
     "execution_count": 7,
     "metadata": {},
     "output_type": "execute_result"
    }
   ],
   "source": [
    "np.median(birthrates)"
   ]
  },
  {
   "cell_type": "markdown",
   "metadata": {},
   "source": [
    "#### The array contains a few nan values"
   ]
  },
  {
   "cell_type": "code",
   "execution_count": 8,
   "metadata": {},
   "outputs": [
    {
     "data": {
      "text/plain": [
       "array([46.6 , 15.11, 17.14, 22.46,  8.71, 45.11, 14.17, 16.93, 16.73,\n",
       "       12.07, 11.03, 12.14,  8.74, 20.74, 17.57, 17.8 , 29.8 , 12.71,\n",
       "       11.16, 10.38, 28.84, 38.85, 11.4 , 33.65, 23.3 ,  8.77, 23.08,\n",
       "       16.56, 14.89, 18.79,  9.65, 45.62, 17.91, 42.22, 26.9 , 33.89,\n",
       "       10.78, 24.87, 12.74, 33.91, 45.73, 15.23, 13.25, 20.48, 36.93,\n",
       "       43.69, 42.57, 21.  , 18.32, 35.11,  9.61, 11.89, 12.56,  9.02,\n",
       "       11.13, 39.53, 15.27, 23.22, 26.99, 22.29, 22.94, 26.61, 35.59,\n",
       "       34.33, 10.04, 37.98, 14.05, 22.55, 10.45, 11.99, 20.46, 16.68,\n",
       "       36.16, 39.37, 39.45, 10.41,  8.25, 30.52, 10.74,  9.68, 15.93,\n",
       "       22.08, 15.05, 18.79, 29.88,  8.81, 41.76, 37.22, 18.28, 36.44,\n",
       "       28.24,  7.29,  9.72, 13.64, 22.01, 20.34, 17.  , 31.98, 14.45,\n",
       "       11.05, 17.97,  8.72, 20.82,  9.37,  9.3 , 21.25, 16.  , 39.72,\n",
       "       30.65, 15.54, 10.  , 21.94, 22.8 , 35.49,  9.24, 18.52, 24.75,\n",
       "       44.77, 26.49, 10.21,  8.75, 11.94,  8.48, 12.02, 41.41, 43.13,\n",
       "       22.86, 34.81, 49.82, 10.22, 33.05, 13.74, 40.99, 15.43, 40.95,\n",
       "       20.69, 24.68, 15.7 ,  9.19, 21.59, 17.59, 21.98, 35.18, 24.32,\n",
       "       24.76, 30.98, 10.9 , 14.78, 18.11, 13.76, 24.51, 50.73, 40.43,\n",
       "       19.43, 11.46, 36.24, 29.74, 18.03, 21.74, 29.36, 29.1 , 20.48,\n",
       "       24.89,  9.85, 10.72, 12.77, 15.56, 18.9 , 10.7 ,  9.95, 40.37,\n",
       "       12.13, 18.02, 19.68, 13.52, 16.18, 16.43, 10.02, 40.25, 29.34,\n",
       "       32.78,   nan, 16.03, 45.76,  9.34, 10.65,  8.98, 30.01, 45.13,\n",
       "       18.2 , 10.06, 15.51, 34.53, 18.02, 27.41, 10.27,  9.71, 27.76,\n",
       "       12.56, 32.65, 37.71, 13.87, 37.01, 25.37, 12.9 , 15.52, 16.62,\n",
       "       27.61, 21.84, 22.18, 47.35,  8.82, 18.96, 10.71, 14.14, 13.91,\n",
       "       26.36, 22.72, 18.71, 16.86, 13.96,   nan, 31.67,   nan, 42.89,\n",
       "       41.  , 28.01])"
      ]
     },
     "execution_count": 8,
     "metadata": {},
     "output_type": "execute_result"
    }
   ],
   "source": [
    "birthrates"
   ]
  },
  {
   "cell_type": "markdown",
   "metadata": {},
   "source": [
    "#### Use the complement operator (~) to remove nan values"
   ]
  },
  {
   "cell_type": "code",
   "execution_count": 9,
   "metadata": {},
   "outputs": [
    {
     "data": {
      "text/plain": [
       "array([46.6 , 15.11, 17.14, 22.46,  8.71, 45.11, 14.17, 16.93, 16.73,\n",
       "       12.07, 11.03, 12.14,  8.74, 20.74, 17.57, 17.8 , 29.8 , 12.71,\n",
       "       11.16, 10.38, 28.84, 38.85, 11.4 , 33.65, 23.3 ,  8.77, 23.08,\n",
       "       16.56, 14.89, 18.79,  9.65, 45.62, 17.91, 42.22, 26.9 , 33.89,\n",
       "       10.78, 24.87, 12.74, 33.91, 45.73, 15.23, 13.25, 20.48, 36.93,\n",
       "       43.69, 42.57, 21.  , 18.32, 35.11,  9.61, 11.89, 12.56,  9.02,\n",
       "       11.13, 39.53, 15.27, 23.22, 26.99, 22.29, 22.94, 26.61, 35.59,\n",
       "       34.33, 10.04, 37.98, 14.05, 22.55, 10.45, 11.99, 20.46, 16.68,\n",
       "       36.16, 39.37, 39.45, 10.41,  8.25, 30.52, 10.74,  9.68, 15.93,\n",
       "       22.08, 15.05, 18.79, 29.88,  8.81, 41.76, 37.22, 18.28, 36.44,\n",
       "       28.24,  7.29,  9.72, 13.64, 22.01, 20.34, 17.  , 31.98, 14.45,\n",
       "       11.05, 17.97,  8.72, 20.82,  9.37,  9.3 , 21.25, 16.  , 39.72,\n",
       "       30.65, 15.54, 10.  , 21.94, 22.8 , 35.49,  9.24, 18.52, 24.75,\n",
       "       44.77, 26.49, 10.21,  8.75, 11.94,  8.48, 12.02, 41.41, 43.13,\n",
       "       22.86, 34.81, 49.82, 10.22, 33.05, 13.74, 40.99, 15.43, 40.95,\n",
       "       20.69, 24.68, 15.7 ,  9.19, 21.59, 17.59, 21.98, 35.18, 24.32,\n",
       "       24.76, 30.98, 10.9 , 14.78, 18.11, 13.76, 24.51, 50.73, 40.43,\n",
       "       19.43, 11.46, 36.24, 29.74, 18.03, 21.74, 29.36, 29.1 , 20.48,\n",
       "       24.89,  9.85, 10.72, 12.77, 15.56, 18.9 , 10.7 ,  9.95, 40.37,\n",
       "       12.13, 18.02, 19.68, 13.52, 16.18, 16.43, 10.02, 40.25, 29.34,\n",
       "       32.78, 16.03, 45.76,  9.34, 10.65,  8.98, 30.01, 45.13, 18.2 ,\n",
       "       10.06, 15.51, 34.53, 18.02, 27.41, 10.27,  9.71, 27.76, 12.56,\n",
       "       32.65, 37.71, 13.87, 37.01, 25.37, 12.9 , 15.52, 16.62, 27.61,\n",
       "       21.84, 22.18, 47.35,  8.82, 18.96, 10.71, 14.14, 13.91, 26.36,\n",
       "       22.72, 18.71, 16.86, 13.96, 31.67, 42.89, 41.  , 28.01])"
      ]
     },
     "execution_count": 9,
     "metadata": {},
     "output_type": "execute_result"
    }
   ],
   "source": [
    "birthrates = birthrates[~np.isnan(birthrates)]\n",
    "\n",
    "birthrates"
   ]
  },
  {
   "cell_type": "code",
   "execution_count": 10,
   "metadata": {},
   "outputs": [
    {
     "data": {
      "text/plain": [
       "(224,)"
      ]
     },
     "execution_count": 10,
     "metadata": {},
     "output_type": "execute_result"
    }
   ],
   "source": [
    "birthrates.shape"
   ]
  },
  {
   "cell_type": "markdown",
   "metadata": {},
   "source": [
    "#### Now, aggregate functions can be applied on the array"
   ]
  },
  {
   "cell_type": "code",
   "execution_count": 11,
   "metadata": {},
   "outputs": [
    {
     "data": {
      "text/plain": [
       "18.79"
      ]
     },
     "execution_count": 11,
     "metadata": {},
     "output_type": "execute_result"
    }
   ],
   "source": [
    "np.median(birthrates)"
   ]
  },
  {
   "cell_type": "code",
   "execution_count": 12,
   "metadata": {},
   "outputs": [
    {
     "data": {
      "text/plain": [
       "22.114732142857147"
      ]
     },
     "execution_count": 12,
     "metadata": {},
     "output_type": "execute_result"
    }
   ],
   "source": [
    "np.mean(birthrates)"
   ]
  },
  {
   "cell_type": "markdown",
   "metadata": {},
   "source": [
    "#### Use the count_nonzero() function \n",
    "This gives us the number of countries where the birth rate is less than 20 per 100,000 of the population"
   ]
  },
  {
   "cell_type": "code",
   "execution_count": 13,
   "metadata": {},
   "outputs": [
    {
     "data": {
      "text/plain": [
       "117"
      ]
     },
     "execution_count": 13,
     "metadata": {},
     "output_type": "execute_result"
    }
   ],
   "source": [
    "np.count_nonzero(birthrates[birthrates < 20])"
   ]
  },
  {
   "cell_type": "markdown",
   "metadata": {},
   "source": [
    "#### The lowest birthrates in the list"
   ]
  },
  {
   "cell_type": "code",
   "execution_count": 14,
   "metadata": {},
   "outputs": [
    {
     "data": {
      "text/plain": [
       "array([7.29, 8.25, 8.48, 8.71, 8.72, 8.74, 8.75, 8.77, 8.81, 8.82, 8.98,\n",
       "       9.02, 9.19, 9.24, 9.3 , 9.34, 9.37, 9.61, 9.65, 9.68])"
      ]
     },
     "execution_count": 14,
     "metadata": {},
     "output_type": "execute_result"
    }
   ],
   "source": [
    "np.sort(birthrates)[0:20]"
   ]
  },
  {
   "cell_type": "markdown",
   "metadata": {},
   "source": [
    "#### Birthrates of countries where the rate is more than 40 per 100,000"
   ]
  },
  {
   "cell_type": "code",
   "execution_count": 15,
   "metadata": {},
   "outputs": [
    {
     "data": {
      "text/plain": [
       "array([46.6 , 45.11, 45.62, 42.22, 45.73, 43.69, 42.57, 41.76, 44.77,\n",
       "       41.41, 43.13, 49.82, 40.99, 40.95, 50.73, 40.43, 40.37, 40.25,\n",
       "       45.76, 45.13, 47.35, 42.89, 41.  ])"
      ]
     },
     "execution_count": 15,
     "metadata": {},
     "output_type": "execute_result"
    }
   ],
   "source": [
    "birthrates[birthrates > 40]"
   ]
  },
  {
   "cell_type": "markdown",
   "metadata": {},
   "source": [
    "#### Count of countries with birthrates between 30 and 40"
   ]
  },
  {
   "cell_type": "code",
   "execution_count": 16,
   "metadata": {},
   "outputs": [
    {
     "data": {
      "text/plain": [
       "32"
      ]
     },
     "execution_count": 16,
     "metadata": {},
     "output_type": "execute_result"
    }
   ],
   "source": [
    "np.count_nonzero((birthrates > 30) & (birthrates < 40))"
   ]
  },
  {
   "cell_type": "code",
   "execution_count": null,
   "metadata": {
    "collapsed": true
   },
   "outputs": [],
   "source": []
  }
 ],
 "metadata": {
  "kernelspec": {
   "display_name": "Python 3",
   "language": "python",
   "name": "python3"
  },
  "language_info": {
   "codemirror_mode": {
    "name": "ipython",
    "version": 3
   },
   "file_extension": ".py",
   "mimetype": "text/x-python",
   "name": "python",
   "nbconvert_exporter": "python",
   "pygments_lexer": "ipython3",
   "version": "3.8.3"
  }
 },
 "nbformat": 4,
 "nbformat_minor": 2
}
