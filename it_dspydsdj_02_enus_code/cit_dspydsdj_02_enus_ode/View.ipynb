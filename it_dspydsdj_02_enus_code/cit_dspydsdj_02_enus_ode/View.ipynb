{
 "cells": [
  {
   "cell_type": "code",
   "execution_count": 1,
   "metadata": {
    "collapsed": true
   },
   "outputs": [],
   "source": [
    "import numpy as np"
   ]
  },
  {
   "cell_type": "markdown",
   "metadata": {},
   "source": [
    "## View vs Copy\n",
    "\n",
    "If array contents are physically stored in another location, it is a <b>Copy.</b> <br />\n",
    "A different view of the same memory content is referred to as a <b>View.</b>"
   ]
  },
  {
   "cell_type": "markdown",
   "metadata": {},
   "source": [
    "#### Create an array of countries"
   ]
  },
  {
   "cell_type": "code",
   "execution_count": 2,
   "metadata": {
    "collapsed": true
   },
   "outputs": [],
   "source": [
    "countries = np.array(['India', 'Peru', 'USA', 'Nigeria', 'Pakistan', 'Germany'])"
   ]
  },
  {
   "cell_type": "markdown",
   "metadata": {},
   "source": [
    "#### Create two views into the same array\n",
    "Use the view() function to create the view. Though these are two separate variables to the locations array, they point to the same physical data as the original locations array"
   ]
  },
  {
   "cell_type": "code",
   "execution_count": 3,
   "metadata": {
    "collapsed": true
   },
   "outputs": [],
   "source": [
    "loc_1 = countries.view()\n",
    "loc_2 = countries.view()"
   ]
  },
  {
   "cell_type": "code",
   "execution_count": 4,
   "metadata": {},
   "outputs": [
    {
     "name": "stdout",
     "output_type": "stream",
     "text": [
      "['India' 'Peru' 'USA' 'Nigeria' 'Pakistan' 'Germany']\n"
     ]
    }
   ],
   "source": [
    "print(loc_1)"
   ]
  },
  {
   "cell_type": "code",
   "execution_count": 5,
   "metadata": {},
   "outputs": [
    {
     "name": "stdout",
     "output_type": "stream",
     "text": [
      "['India' 'Peru' 'USA' 'Nigeria' 'Pakistan' 'Germany']\n"
     ]
    }
   ],
   "source": [
    "print(loc_2)"
   ]
  },
  {
   "cell_type": "code",
   "execution_count": 6,
   "metadata": {},
   "outputs": [
    {
     "name": "stdout",
     "output_type": "stream",
     "text": [
      "IDs for the Arrays are Different :\n",
      "\n",
      "ID for the countries is : 4483778720\n",
      "\n",
      "IDs for the loc views are :\n",
      "4483779280\n",
      "4483778960\n"
     ]
    }
   ],
   "source": [
    "print('IDs for the Arrays are Different :')\n",
    "print('\\nID for the countries is :', id(countries))\n",
    "\n",
    "print('\\nIDs for the loc views are :')\n",
    "print(id(loc_1))\n",
    "print(id(loc_2))"
   ]
  },
  {
   "cell_type": "markdown",
   "metadata": {},
   "source": [
    "#### Use the is operator to check if the view points to the same object as the original array\n",
    "This will return true only if the IDs are equal"
   ]
  },
  {
   "cell_type": "code",
   "execution_count": 7,
   "metadata": {},
   "outputs": [
    {
     "data": {
      "text/plain": [
       "False"
      ]
     },
     "execution_count": 7,
     "metadata": {},
     "output_type": "execute_result"
    }
   ],
   "source": [
    "loc_1 is countries"
   ]
  },
  {
   "cell_type": "markdown",
   "metadata": {},
   "source": [
    "#### The base of the view is the same as the original array"
   ]
  },
  {
   "cell_type": "code",
   "execution_count": 8,
   "metadata": {},
   "outputs": [
    {
     "data": {
      "text/plain": [
       "True"
      ]
     },
     "execution_count": 8,
     "metadata": {},
     "output_type": "execute_result"
    }
   ],
   "source": [
    "loc_1.base is countries"
   ]
  },
  {
   "cell_type": "markdown",
   "metadata": {},
   "source": [
    "#### Modify one of the elements in the view\n",
    "Substitute Nigeria with Ghana in the loc_2 view"
   ]
  },
  {
   "cell_type": "code",
   "execution_count": 9,
   "metadata": {},
   "outputs": [
    {
     "data": {
      "text/plain": [
       "array(['India', 'Peru', 'USA', 'Ghana', 'Pakistan', 'Germany'],\n",
       "      dtype='<U8')"
      ]
     },
     "execution_count": 9,
     "metadata": {},
     "output_type": "execute_result"
    }
   ],
   "source": [
    "loc_2[3] = 'Ghana'\n",
    "\n",
    "loc_2"
   ]
  },
  {
   "cell_type": "markdown",
   "metadata": {},
   "source": [
    "#### Check if this has modified the original array\n",
    "The answer is Yes. The view simply points to the original data"
   ]
  },
  {
   "cell_type": "code",
   "execution_count": 10,
   "metadata": {},
   "outputs": [
    {
     "data": {
      "text/plain": [
       "array(['India', 'Peru', 'USA', 'Ghana', 'Pakistan', 'Germany'],\n",
       "      dtype='<U8')"
      ]
     },
     "execution_count": 10,
     "metadata": {},
     "output_type": "execute_result"
    }
   ],
   "source": [
    "countries"
   ]
  },
  {
   "cell_type": "markdown",
   "metadata": {},
   "source": [
    "#### The other view is also modified as it points to the same data"
   ]
  },
  {
   "cell_type": "code",
   "execution_count": 11,
   "metadata": {},
   "outputs": [
    {
     "data": {
      "text/plain": [
       "array(['India', 'Peru', 'USA', 'Ghana', 'Pakistan', 'Germany'],\n",
       "      dtype='<U8')"
      ]
     },
     "execution_count": 11,
     "metadata": {},
     "output_type": "execute_result"
    }
   ],
   "source": [
    "loc_1"
   ]
  },
  {
   "cell_type": "markdown",
   "metadata": {},
   "source": [
    "#### Redefine loc_1"
   ]
  },
  {
   "cell_type": "code",
   "execution_count": 12,
   "metadata": {},
   "outputs": [
    {
     "data": {
      "text/plain": [
       "array(['France', 'Iran', 'Australia', 'Mexico', 'Cuba', 'Egypt'],\n",
       "      dtype='<U9')"
      ]
     },
     "execution_count": 12,
     "metadata": {},
     "output_type": "execute_result"
    }
   ],
   "source": [
    "loc_1 = np.array(['France', 'Iran', 'Australia', 'Mexico', 'Cuba', 'Egypt'])\n",
    "\n",
    "loc_1"
   ]
  },
  {
   "cell_type": "markdown",
   "metadata": {},
   "source": [
    "#### Check the original array\n",
    "This has not been affected as loc_1 now points to a different location in memory"
   ]
  },
  {
   "cell_type": "code",
   "execution_count": 13,
   "metadata": {},
   "outputs": [
    {
     "data": {
      "text/plain": [
       "array(['India', 'Peru', 'USA', 'Ghana', 'Pakistan', 'Germany'],\n",
       "      dtype='<U8')"
      ]
     },
     "execution_count": 13,
     "metadata": {},
     "output_type": "execute_result"
    }
   ],
   "source": [
    "countries"
   ]
  },
  {
   "cell_type": "markdown",
   "metadata": {},
   "source": [
    "#### Set the shape of loc_2\n",
    "We can modify the shape of a view without modifying the shape of the original. The contents are not modified here"
   ]
  },
  {
   "cell_type": "code",
   "execution_count": 14,
   "metadata": {},
   "outputs": [
    {
     "name": "stdout",
     "output_type": "stream",
     "text": [
      "Shape of loc_2 : (2, 3)\n",
      "Contents:\n",
      " [['India' 'Peru' 'USA']\n",
      " ['Ghana' 'Pakistan' 'Germany']]\n"
     ]
    }
   ],
   "source": [
    "loc_2.shape = 2,3\n",
    "\n",
    "print('Shape of loc_2 :', loc_2.shape)\n",
    "\n",
    "print('Contents:\\n', loc_2)"
   ]
  },
  {
   "cell_type": "code",
   "execution_count": 15,
   "metadata": {},
   "outputs": [
    {
     "name": "stdout",
     "output_type": "stream",
     "text": [
      "Shape of the countries array : (6,)\n",
      "Contents:\n",
      " ['India' 'Peru' 'USA' 'Ghana' 'Pakistan' 'Germany']\n"
     ]
    }
   ],
   "source": [
    "print('Shape of the countries array :', countries.shape)\n",
    "\n",
    "print('Contents:\\n', countries)"
   ]
  },
  {
   "cell_type": "code",
   "execution_count": null,
   "metadata": {
    "collapsed": true
   },
   "outputs": [],
   "source": []
  }
 ],
 "metadata": {
  "kernelspec": {
   "display_name": "Python 3",
   "language": "python",
   "name": "python3"
  },
  "language_info": {
   "codemirror_mode": {
    "name": "ipython",
    "version": 3
   },
   "file_extension": ".py",
   "mimetype": "text/x-python",
   "name": "python",
   "nbconvert_exporter": "python",
   "pygments_lexer": "ipython3",
   "version": "3.6.3"
  }
 },
 "nbformat": 4,
 "nbformat_minor": 2
}
